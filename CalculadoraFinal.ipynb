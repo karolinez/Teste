{
  "nbformat": 4,
  "nbformat_minor": 0,
  "metadata": {
    "colab": {
      "provenance": [],
      "toc_visible": true,
      "authorship_tag": "ABX9TyPXVZFrNZ3b/EQGGK1HNJkV",
      "include_colab_link": true
    },
    "kernelspec": {
      "name": "python3",
      "display_name": "Python 3"
    },
    "language_info": {
      "name": "python"
    }
  },
  "cells": [
    {
      "cell_type": "markdown",
      "metadata": {
        "id": "view-in-github",
        "colab_type": "text"
      },
      "source": [
        "<a href=\"https://colab.research.google.com/github/karolinez/Teste/blob/main/CalculadoraFinal.ipynb\" target=\"_parent\"><img src=\"https://colab.research.google.com/assets/colab-badge.svg\" alt=\"Open In Colab\"/></a>"
      ]
    },
    {
      "cell_type": "code",
      "source": [],
      "metadata": {
        "id": "8DlcF9KUa37Z"
      },
      "execution_count": null,
      "outputs": []
    },
    {
      "cell_type": "code",
      "execution_count": null,
      "metadata": {
        "id": "jEoH3Jk8KntX",
        "colab": {
          "base_uri": "https://localhost:8080/"
        },
        "outputId": "5d80fa59-21aa-4fac-aa7e-5f242119b5e0"
      },
      "outputs": [
        {
          "name": "stdout",
          "output_type": "stream",
          "text": [
            "1:INICIAR OU 0:SAIR0\n"
          ]
        }
      ],
      "source": [
        "\n",
        "def calculadora(num1,num2,tipo):\n",
        " if tipo==1:\n",
        "  res=num1+num2\n",
        "  return res\n",
        " elif tipo==2:\n",
        "  res=num1-num2\n",
        "  return res\n",
        " elif tipo==3:\n",
        "   res=num1*num2\n",
        "   return res\n",
        " elif tipo==4:\n",
        "   res=num1/num2\n",
        "   return res\n",
        "continuar=True\n",
        "while continuar==True:\n",
        "      opcao=(int(input(\"1:INICIAR OU 0:SAIR\")))\n",
        "      if opcao==1:\n",
        "       tipo=int(input(\"INFORME O TIPO 1:Soma, 2:Subtração, 3:Multiplicação, 4:Divisão\"))\n",
        "       num1=int(input(\"Infome um numero\"))\n",
        "       num2=int(input(\"Informe outro numero\"))\n",
        "       print(calculadora(num1,num2,tipo))\n",
        "      else:\n",
        "       break"
      ]
    }
  ]
}